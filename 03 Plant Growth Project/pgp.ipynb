{
 "cells": [
  {
   "cell_type": "code",
   "execution_count": 1,
   "id": "6249fe9a-d8e1-4328-a17c-33a1441cabf7",
   "metadata": {},
   "outputs": [
    {
     "name": "stderr",
     "output_type": "stream",
     "text": [
      "2024-10-01 17:44:37.457 \n",
      "  \u001b[33m\u001b[1mWarning:\u001b[0m to view this Streamlit app on a browser, run it with the following\n",
      "  command:\n",
      "\n",
      "    streamlit run d:\\pythonnn\\lib\\site-packages\\ipykernel_launcher.py [ARGUMENTS]\n"
     ]
    }
   ],
   "source": [
    "import streamlit as st\n",
    "import pandas as pd\n",
    "import pickle\n",
    "from sklearn.linear_model import LogisticRegression\n",
    "\n",
    "st.title(\"Plant Growth Prediction using Logistic Regression\")\n",
    "\n",
    "st.sidebar.header(\"Input Parameters\")\n",
    "\n",
    "def user_input_features():\n",
    "    Sunlight_Hours = st.sidebar.number_input('Sunlight Hours', min_value=0, max_value=24, value=12)\n",
    "    Temperature = st.sidebar.number_input('Temperature (°C)', min_value=-10, max_value=50, value=25)\n",
    "    Humidity = st.sidebar.number_input('Humidity (%)', min_value=0, max_value=100, value=50)\n",
    "    Water_Adequacy = st.sidebar.number_input('Water Adequacy (0 or 1)', min_value=0, max_value=1, value=1)\n",
    "    Fertilizer_Count = st.sidebar.number_input('Fertilizer Count', min_value=0, max_value=10, value=2)\n",
    "    Stress_Index = st.sidebar.number_input('Stress Index (0 or 1)', min_value=0, max_value=1, value=0)\n",
    "    Soil_Type_clay = st.sidebar.number_input('Soil Type Clay (0 or 1)', min_value=0, max_value=1, value=0)\n",
    "    Soil_Type_loam = st.sidebar.number_input('Soil Type Loam (0 or 1)', min_value=0, max_value=1, value=1)\n",
    "    Soil_Type_sandy = st.sidebar.number_input('Soil Type Sandy (0 or 1)', min_value=0, max_value=1, value=0)\n",
    "    Water_Frequency_bi_weekly = st.sidebar.number_input('Water Frequency Bi-weekly (0 or 1)', min_value=0, max_value=1, value=0)\n",
    "    Water_Frequency_daily = st.sidebar.number_input('Water Frequency Daily (0 or 1)', min_value=0, max_value=1, value=1)\n",
    "    Water_Frequency_weekly = st.sidebar.number_input('Water Frequency Weekly (0 or 1)', min_value=0, max_value=1, value=0)\n",
    "    Fertilizer_Type_chemical = st.sidebar.number_input('Fertilizer Type Chemical (0 or 1)', min_value=0, max_value=1, value=1)\n",
    "\n",
    "    data = {\n",
    "        'Sunlight_Hours': Sunlight_Hours,\n",
    "        'Temperature': Temperature,\n",
    "        'Humidity': Humidity,\n",
    "        'Water_Adequacy': Water_Adequacy,\n",
    "        'Fertilizer_Count': Fertilizer_Count,\n",
    "        'Stress_Index': Stress_Index,\n",
    "        'Soil_Type_clay': Soil_Type_clay,\n",
    "        'Soil_Type_loam': Soil_Type_loam,\n",
    "        'Soil_Type_sandy': Soil_Type_sandy,\n",
    "        'Water_Frequency_bi-weekly': Water_Frequency_bi_weekly,\n",
    "        'Water_Frequency_daily': Water_Frequency_daily,\n",
    "        'Water_Frequency_weekly': Water_Frequency_weekly,\n",
    "        'Fertilizer_Type_chemical': Fertilizer_Type_chemical\n",
    "    }\n",
    "    \n",
    "    features = pd.DataFrame(data, index=[0])\n",
    "    return features\n",
    "\n",
    "input_df = user_input_features()\n",
    "\n",
    "st.subheader('User Input Features')\n",
    "st.write(input_df)\n",
    "\n",
    "model_filename = \"logistic_regression_model_plant_health.pkl\"  \n",
    "with open(model_filename, 'rb') as model_file:\n",
    "    model = pickle.load(model_file)\n",
    "\n",
    "if st.button('Predict Growth Milestone'):\n",
    "    prediction = model.predict(input_df)\n",
    "\n",
    "    st.subheader('Prediction for User Input')\n",
    "    st.write(f\"Predicted Growth Milestone: {prediction[0]}\")"
   ]
  }
 ],
 "metadata": {
  "kernelspec": {
   "display_name": "Python 3 (ipykernel)",
   "language": "python",
   "name": "python3"
  },
  "language_info": {
   "codemirror_mode": {
    "name": "ipython",
    "version": 3
   },
   "file_extension": ".py",
   "mimetype": "text/x-python",
   "name": "python",
   "nbconvert_exporter": "python",
   "pygments_lexer": "ipython3",
   "version": "3.8.10"
  }
 },
 "nbformat": 4,
 "nbformat_minor": 5
}
